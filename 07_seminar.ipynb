{
 "cells": [
  {
   "cell_type": "markdown",
   "id": "600a14a3",
   "metadata": {},
   "source": [
    "## Семинар №7: Функциональное программирование"
   ]
  },
  {
   "cell_type": "markdown",
   "id": "256f72ee",
   "metadata": {},
   "source": [
    "11) Создать декоратор tolst(len, fill) с параметрами len и fill. Декоратор превращает результат декорируемой функции в список состоящий из len элементов. Если исходная функция возвращает меньше заданного количества элементов, то оставшиеся места заполняются значениями fill, в случае, если количество возврващаемых элементов больше len, то хвост последовательности отбрасывается."
   ]
  },
  {
   "cell_type": "code",
   "execution_count": 1,
   "id": "b6d8f33d",
   "metadata": {},
   "outputs": [],
   "source": [
    "# Your code\n"
   ]
  },
  {
   "cell_type": "markdown",
   "id": "6eb81cf5",
   "metadata": {},
   "source": [
    "12) При помощи механизма map/filter/reduce возвести число 5 в степени от 0 до 100. без оператора ** (возведение в степень) и написания доп. функций.  \n",
    "12.1) без доп. функций (в том числе lambda)."
   ]
  },
  {
   "cell_type": "code",
   "execution_count": 2,
   "id": "8fe6661c",
   "metadata": {},
   "outputs": [],
   "source": [
    "# Your code\n"
   ]
  },
  {
   "cell_type": "markdown",
   "id": "7b179071",
   "metadata": {},
   "source": [
    "13) При помощи механизма map/filter/reduce превраить список целых чисел в строку, содержащую строковое представление этих чисел, разделенное пробелами.\n",
    "\n",
    "Пример: [1, 2, 3, 4] -> '1 2 3 4'"
   ]
  },
  {
   "cell_type": "code",
   "execution_count": 3,
   "id": "e1f1b8fc",
   "metadata": {},
   "outputs": [],
   "source": [
    "# Your code\n"
   ]
  },
  {
   "cell_type": "markdown",
   "id": "c859fee1",
   "metadata": {},
   "source": [
    "14) При помощи механизма map/filter/reduce возвести в квадрат числа от 1 до 100, и рассчитать их сумму, не включая в сумму числа, кратные 9."
   ]
  },
  {
   "cell_type": "code",
   "execution_count": 4,
   "id": "661d7706",
   "metadata": {},
   "outputs": [],
   "source": [
    "# Your code\n"
   ]
  }
 ],
 "metadata": {
  "kernelspec": {
   "display_name": "Python 3 (ipykernel)",
   "language": "python",
   "name": "python3"
  },
  "language_info": {
   "codemirror_mode": {
    "name": "ipython",
    "version": 3
   },
   "file_extension": ".py",
   "mimetype": "text/x-python",
   "name": "python",
   "nbconvert_exporter": "python",
   "pygments_lexer": "ipython3",
   "version": "3.9.7"
  }
 },
 "nbformat": 4,
 "nbformat_minor": 5
}
